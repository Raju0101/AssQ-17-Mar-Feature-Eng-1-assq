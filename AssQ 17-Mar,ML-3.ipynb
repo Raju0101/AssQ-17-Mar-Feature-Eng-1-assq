{
 "cells": [
  {
   "cell_type": "markdown",
   "id": "b7bcbe42-0f7c-4fc5-b059-92d6975bb8b4",
   "metadata": {},
   "source": [
    "#Assignment 17-March, ML, Assq-3"
   ]
  },
  {
   "cell_type": "code",
   "execution_count": 1,
   "id": "ecad24c3-e1ca-46f6-b023-6387a1e91cb0",
   "metadata": {},
   "outputs": [],
   "source": [
    "# Q1: What are missing values in a dataset? Why is it essential to handle missing values? Name some \n",
    "# algorithms that are not affected by missing values."
   ]
  },
  {
   "cell_type": "code",
   "execution_count": null,
   "id": "92590e85-7606-4fec-ad33-b3b50fc188c4",
   "metadata": {},
   "outputs": [],
   "source": [
    "# When tables are not filled with the values, is calld missing value.\n",
    "# Missing values are common when working with real-world datasets – not the cleaned ones available on Kaggle,\n",
    "# for example. Missing data could result from a human factor (for example, a person deliberately \n",
    "# failing to respond to a survey question), a problem in electrical sensors, or other factors.\n",
    "\n",
    "# Missing values can be handled by deleting the rows or columns having null values. If columns have more \n",
    "# than half of the rows as null then the entire column can be dropped. The rows which are \n",
    "# having one or more columns values as null can also be dropped.\n",
    "\n",
    "#  Missing data are important because, depending on the type, they can sometimes bias our results.\n",
    "# This means our results may not be generalizable outside of our study because our data \n",
    "# come from an unrepresentative sample.\n",
    "# You can use pandas DataFrame method . dropna() to remove rows or records which contain atleast one missing value.\n",
    "\n",
    "#  Histogram based Gradient-boosting Classifier / Regressor are not affected by missing values."
   ]
  },
  {
   "cell_type": "code",
   "execution_count": null,
   "id": "b80ec07c-db47-49c8-a675-79e26125d0b2",
   "metadata": {},
   "outputs": [],
   "source": []
  },
  {
   "cell_type": "code",
   "execution_count": null,
   "id": "021515cc-e1ce-4352-a903-7a91e3bb3d10",
   "metadata": {},
   "outputs": [],
   "source": [
    "# Q2: List down techniques used to handle missing data.  Give an example of each with python code."
   ]
  },
  {
   "cell_type": "code",
   "execution_count": 2,
   "id": "4b2ff29d-d654-4bba-ad21-9394194076fd",
   "metadata": {},
   "outputs": [],
   "source": [
    "# 4 Techniques To Deal With Missing Data in Datasets.\n",
    "# Simple methods that can nullify the effects of missing values. ...\n",
    "# Delete the Data.:- The easiest method is to just simply delete the whole \n",
    "# training examples where one or several columns have null entries. ...\n",
    "# Imputing Averages. ...\n",
    "# Assign New Category. ...\n",
    "# Certain Algorithms.\n",
    "\n",
    "# 1 Missing Completely at Random, MCAR:\n",
    "\n",
    "# 2. Missing at Random MAR:\n",
    "\n",
    "# 3. Missing data not at random (MNAR)\n",
    "\n",
    "# ## Handling missing by deleting rows-\n",
    "# ## rowwise deletion\n",
    "# df.dropna()\n",
    "\n",
    "# # Handling missing by deleting columns-\n",
    "# df.dropna(axis=1)\n",
    "\n",
    "#  Mean Value Imputation\n",
    "# df['Age_mean']=df['age'].fillna(df['age'].mean())\n",
    "\n",
    "#  Mode Value Imputation-- Categorical\n",
    "# df['embarked_mode']=df['embarked'].fillna(mode)"
   ]
  },
  {
   "cell_type": "code",
   "execution_count": null,
   "id": "e896b554-a6cd-4f96-9727-4acef9cf7009",
   "metadata": {},
   "outputs": [],
   "source": []
  },
  {
   "cell_type": "code",
   "execution_count": 3,
   "id": "29760c33-d211-47a5-bbe1-0f66bd048b54",
   "metadata": {},
   "outputs": [],
   "source": [
    "# Q3: Explain the imbalanced data. What will happen if imbalanced data is not handled?"
   ]
  },
  {
   "cell_type": "code",
   "execution_count": null,
   "id": "cc781a0a-a22f-4744-9f83-5993ebacdfa2",
   "metadata": {},
   "outputs": [],
   "source": [
    "# Data imbalance usually reflects an unequal distribution of classes within a dataset. \n",
    "# What is imbalanced data?\n",
    "\n",
    "# A classification data set with skewed class proportions is called imbalanced. Classes\n",
    "# that make up a large proportion of the data set are called majority classes. Those that make\n",
    "# up a smaller proportion are minority classes.\n",
    "\n",
    "# Main Techniques to Handle Imbalanced Data-..2 types\n",
    "# Upsampling\n",
    "# Down sampling\n",
    "\n",
    "\n",
    "# 7 Techniques to Handle Imbalanced Data. ...\n",
    "# Use the right evaluation metrics. ...\n",
    "# Resample the training set. ...\n",
    "# Use K-fold Cross-Validation in the Right Way. ...\n",
    "# Ensemble Different Resampled Datasets. ...\n",
    "# Resample with Different Ratios. ...\n",
    "# Cluster the abundant class. ...\n",
    "# Design Your Models.\n",
    "\n",
    "\n",
    "# Balancing a dataset makes training a model easier because it helps prevent the model from \n",
    "# becoming biassed towards one class. In other words, the model will no longer favour the majority \n",
    "# class just because it contains more data."
   ]
  },
  {
   "cell_type": "code",
   "execution_count": null,
   "id": "d347421a-c1fc-4773-bb2b-106587fadce7",
   "metadata": {},
   "outputs": [],
   "source": []
  },
  {
   "cell_type": "code",
   "execution_count": 4,
   "id": "cec57d63-3898-47c4-8aa8-2eb2251907a3",
   "metadata": {},
   "outputs": [],
   "source": [
    "# 4: What are Up-sampling and Down-sampling? Explain with an example when up-sampling and down\u0002 sampling are required."
   ]
  },
  {
   "cell_type": "code",
   "execution_count": null,
   "id": "0bd3df46-3257-49e7-92ba-736fc4496eef",
   "metadata": {},
   "outputs": [],
   "source": [
    "# Up-Sampling is a \"Zero-Padding Procedure\" that increase the number of samples of a DT signal.\n",
    "# More specificals, when up sampling, zeros are added between the samples of a signal.\n",
    "# For example, if compact disc audio at 44,100 samples/second is upsampled by a factor of 5/4,\n",
    "# the resulting sample-rate is 55,125.\n",
    "\n",
    "# Down-Sampling is to decrease the sample size.\n",
    "# To make a digital audio signal smaller by lowering its sampling rate or sample size (bits per sample).\n",
    "# Downsampling is done to decrease the bit rate when transmitting over a limited bandwidth or \n",
    "# to convert to a more limited audio format. "
   ]
  },
  {
   "cell_type": "code",
   "execution_count": null,
   "id": "4c4a9c1d-4f80-47be-844a-c97061a235e2",
   "metadata": {},
   "outputs": [],
   "source": []
  },
  {
   "cell_type": "code",
   "execution_count": null,
   "id": "2fabd092-d8bb-4832-a22b-61e39710ed70",
   "metadata": {},
   "outputs": [],
   "source": [
    "# Q5: What is data Augmentation? Explain SMOTE."
   ]
  },
  {
   "cell_type": "code",
   "execution_count": null,
   "id": "5c2d504d-fbef-4e95-a8fa-e1de5d8d3153",
   "metadata": {},
   "outputs": [],
   "source": [
    "# SMOTE (Synthetic Minority Over-sampling Technique) is a technique used in machine learning\n",
    "# to address imbalanced datasets where the minority class has significantly fewer instances than \n",
    "# the majority class. SMOTE involves generating synthetic instances of the minority \n",
    "# class by interpolating between existing instances.\n",
    "\n",
    "#  Data Augmentation:-\n",
    "# The SMOTE algorithm. SMOTE is an algorithm that performs data augmentation by creating synthetic \n",
    "# data points based on the original data points. SMOTE can be seen as an advanced version of oversampling,\n",
    "# or as a specific algorithm for data augmentation."
   ]
  },
  {
   "cell_type": "code",
   "execution_count": null,
   "id": "d6d389be-8884-404d-8e83-9c8a9422c7ca",
   "metadata": {},
   "outputs": [],
   "source": []
  },
  {
   "cell_type": "code",
   "execution_count": null,
   "id": "9d0d7202-d5cc-4a63-b225-7af409b55dcc",
   "metadata": {},
   "outputs": [],
   "source": [
    "# Q6: What are outliers in a dataset? Why is it essential to handle outliers?"
   ]
  },
  {
   "cell_type": "code",
   "execution_count": null,
   "id": "1ecefc9d-6a10-4796-958e-771512711438",
   "metadata": {},
   "outputs": [],
   "source": [
    "# An outlier is an observation that lies an abnormal distance from other values in a random sample from a population.\n",
    "# In a sense, this definition leaves it up to the analyst (or a consensus process)\n",
    "# to decide what will be considered abnormal.\n",
    "\n",
    "# Outliers are important because they can have a large influence on statistics derived from the dataset.\n",
    "#  they represent measurement errors, data entry or processing errors, or poor sampling."
   ]
  },
  {
   "cell_type": "code",
   "execution_count": null,
   "id": "d419d83f-34e3-4567-9eaa-9dbc435b6971",
   "metadata": {},
   "outputs": [],
   "source": []
  },
  {
   "cell_type": "code",
   "execution_count": 6,
   "id": "a34e350f-f30f-40e6-8e31-9bb09b297deb",
   "metadata": {},
   "outputs": [],
   "source": [
    "# Q7: You are working on a project that requires analyzing customer data. However, you notice that some of \n",
    "# the data is missing. What are some techniques you can use to handle the missing data in your analysis?"
   ]
  },
  {
   "cell_type": "code",
   "execution_count": null,
   "id": "a3a1b1e0-d750-4cb4-9e19-857d9babc21c",
   "metadata": {},
   "outputs": [],
   "source": [
    "# 4 Techniques To Deal With Missing Data in Datasets ·\n",
    "# 1. Delete the Data · 2. Imputing Averages · 3. Assign New Category · 4. Certain Algorithms.\n",
    "\n",
    "# # ## Handling missing values by deleting rows-\n",
    "# ## rowwise deletion\n",
    "# df.dropna()\n",
    "\n",
    "# # Handling missing values by deleting columns-\n",
    "# df.dropna(axis=1)\n",
    "\n",
    "#  Mean Value Imputation\n",
    "# df['Age_mean']=df['age'].fillna(df['age'].mean())\n",
    "\n",
    "#  Mode Value Imputation-- Categorical\n",
    "# df['embarked_mode']=df['embarked'].fillna(mode)"
   ]
  },
  {
   "cell_type": "code",
   "execution_count": null,
   "id": "9abc5e45-6619-4e45-8e23-a0b953b5c756",
   "metadata": {},
   "outputs": [],
   "source": []
  },
  {
   "cell_type": "code",
   "execution_count": 7,
   "id": "6b6cedf5-0dc7-494d-b921-c2afae01e796",
   "metadata": {},
   "outputs": [],
   "source": [
    "# Q8: You are working with a large dataset and find that a small percentage of the data is missing. What are \n",
    "# some strategies you can use to determine if the missing data is missing at random or if there is a pattern \n",
    "# to the missing data?"
   ]
  },
  {
   "cell_type": "code",
   "execution_count": null,
   "id": "a081ef5e-34c3-45f7-b6be-98c243b43032",
   "metadata": {},
   "outputs": [],
   "source": [
    "# If a small percentage of the data is missing.\n",
    "# We can just simply remove the rows with missing data values.\n",
    "# It is the quickest way, we use the rest of the data to predict the values."
   ]
  },
  {
   "cell_type": "code",
   "execution_count": null,
   "id": "f6be24d1-d6c1-40a8-9bdc-99357f8a5874",
   "metadata": {},
   "outputs": [],
   "source": []
  },
  {
   "cell_type": "code",
   "execution_count": null,
   "id": "6f164e3a-1479-46fa-95bb-9807d9c30445",
   "metadata": {},
   "outputs": [],
   "source": [
    "# Q9: Suppose you are working on a medical diagnosis project and find that the majority of patients in the \n",
    "# dataset do not have the condition of interest, while a small percentage do. What are some strategies you \n",
    "# can use to evaluate the performance of your machine learning model on this imbalanced dataset?"
   ]
  },
  {
   "cell_type": "code",
   "execution_count": null,
   "id": "599a8efa-cc28-454f-8b09-e539dc905839",
   "metadata": {},
   "outputs": [],
   "source": [
    "# If the majority of patients in the  dataset do not have the condition of interest, while a small percentage do.\n",
    "# We will go with the the majority of patients, We will assume it interested conditions."
   ]
  },
  {
   "cell_type": "code",
   "execution_count": null,
   "id": "7001368b-562e-4b13-af8b-26edb8cfb71e",
   "metadata": {},
   "outputs": [],
   "source": []
  },
  {
   "cell_type": "code",
   "execution_count": 8,
   "id": "ed865c40-0f64-42c1-9637-4e912b336edd",
   "metadata": {},
   "outputs": [],
   "source": [
    "# Q10: When attempting to estimate customer satisfaction for a project, you discover that the dataset is \n",
    "# unbalanced, with the bulk of customers reporting being satisfied. What methods can you employ to \n",
    "# balance the dataset and down-sample the majority class?"
   ]
  },
  {
   "cell_type": "code",
   "execution_count": null,
   "id": "e701b773-efd3-43f9-a24e-27b2c1c62bf7",
   "metadata": {},
   "outputs": [],
   "source": [
    "# We will usethe Down-Samplig to balance the data sets.\n",
    "# This technique is used to upsample or downsample the minority or majority class.\n",
    "# When we are using an imbalanced dataset, we can oversample the minority class using replacement.\n",
    "# This technique is called oversampling.\n",
    "\n",
    "# Down-Sampling is to decrease the sample size.\n",
    "# To make a digital audio signal smaller by lowering its sampling rate or sample size (bits per sample).\n",
    "# Downsampling is done to decrease the bit rate when transmitting over a limited bandwidth or \n",
    "# to convert to a more limited audio format. "
   ]
  },
  {
   "cell_type": "code",
   "execution_count": null,
   "id": "2007a837-0f85-4b70-86c2-d60232a90488",
   "metadata": {},
   "outputs": [],
   "source": []
  },
  {
   "cell_type": "code",
   "execution_count": null,
   "id": "02a46c0b-773c-4372-871d-c98bfd4e88fd",
   "metadata": {},
   "outputs": [],
   "source": [
    "# Q11: You discover that the dataset is unbalanced with a low percentage of occurrences while working on a \n",
    "# project that requires you to estimate the occurrence of a rare event. What methods can you employ to \n",
    "# balance the dataset and up-sample the minority class?"
   ]
  },
  {
   "cell_type": "code",
   "execution_count": null,
   "id": "ac3dac83-2123-4649-b0c5-bbff436c49b8",
   "metadata": {},
   "outputs": [],
   "source": [
    "# # Up-Sampling is a \"Zero-Padding Procedure\" that increase the number of samples of a DT signal.\n",
    "# More specificals, when up sampling, zeros are added between the samples of a signal.\n",
    "# For example, if compact disc audio at 44,100 samples/second is upsampled by a factor of 5/4,\n",
    "# the resulting sample-rate is 55,125."
   ]
  }
 ],
 "metadata": {
  "kernelspec": {
   "display_name": "Python 3 (ipykernel)",
   "language": "python",
   "name": "python3"
  },
  "language_info": {
   "codemirror_mode": {
    "name": "ipython",
    "version": 3
   },
   "file_extension": ".py",
   "mimetype": "text/x-python",
   "name": "python",
   "nbconvert_exporter": "python",
   "pygments_lexer": "ipython3",
   "version": "3.10.6"
  }
 },
 "nbformat": 4,
 "nbformat_minor": 5
}
